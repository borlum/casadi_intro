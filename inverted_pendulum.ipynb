{
 "cells": [
  {
   "cell_type": "code",
   "execution_count": null,
   "metadata": {},
   "outputs": [],
   "source": [
    "import casadi as ca\n",
    "import casadi.tools\n",
    "\n",
    "import numpy as np\n",
    "import pandas as pd\n",
    "\n",
    "import matplotlib.pyplot as plt"
   ]
  },
  {
   "cell_type": "markdown",
   "metadata": {},
   "source": [
    "# Inverted pendulum CasADi example\n",
    "\n",
    "The dynamics are described by 4 states;\n",
    "\n",
    "- Position of cart, pos [m]\n",
    "- Angle of pendulum, theta [rad]\n",
    "- Derivative of cart position, dpos [m/s]\n",
    "- Derivative of pendulum angle, dtheta [rad/s]\n",
    "\n",
    "As input we have force acting on the cart, F [N]"
   ]
  },
  {
   "cell_type": "code",
   "execution_count": null,
   "metadata": {},
   "outputs": [],
   "source": [
    "# Physical constants\n",
    "g = 9.82    # gravitation [m/s^2]\n",
    "L = 0.2     # pendulum length [m]\n",
    "m = 1       # pendulum mass [kg]\n",
    "m_cart = 0.5 # cart mass [kg]"
   ]
  },
  {
   "cell_type": "code",
   "execution_count": null,
   "metadata": {},
   "outputs": [],
   "source": [
    "# State vector\n",
    "x = ca.tools.struct_symMX([\n",
    "    'p',\n",
    "    'theta',\n",
    "    'dp',\n",
    "    'dtheta'\n",
    "])\n",
    "\n",
    "# Input 'vector'\n",
    "u = ca.tools.struct_symMX(['F'])\n",
    "\n",
    "# Sum of forces\n",
    "F_tot = u['F'] + m*L*x['dtheta']*ca.sin(x['theta']) - m * g * ca.sin(x['theta']) * ca.cos(x['theta'])\n",
    "\n",
    "# Sum of masses\n",
    "m_tot = m_cart + m - m * ca.cos(x['theta'])**2\n",
    "\n",
    "# d(dp)/dt\n",
    "ddpos = F_tot / m_tot\n",
    "# d(dtheta)/dt\n",
    "ddtheta = g/L*ca.sin(x['theta']) - ca.cos(x['theta'])*ddpos\n",
    "\n",
    "# ODE Right-hand side\n",
    "rhs = ca.vertcat(x['dp'], x['dtheta'], ddpos, ddtheta)\n",
    "\n",
    "# Our dynamics\n",
    "f = ca.Function('f', [x, u], [rhs], ['x', 'u'], ['dx/dt'])\n",
    "\n",
    "f"
   ]
  },
  {
   "cell_type": "markdown",
   "metadata": {},
   "source": [
    "# Integration\n",
    "\n",
    "Now we have dynamics described through CasADi symbols and functions.\n",
    "We can now introduce integrators for e.g. simulation.\n",
    "\n",
    "Here we introduce an integrator to simulate a single sample -- this is to formulate discrete dynamics from our continous dynamics.\n",
    "\n",
    "So we move from our formulation of:\n",
    "\n",
    "$$\n",
    "\\dot{x} = f(t,x,u)\n",
    "$$\n",
    "\n",
    "to:\n",
    "\n",
    "$$\n",
    "x[k+1] = F(x[k], u[k])\n",
    "$$\n",
    "\n",
    "where $F$ is the integration of $f$ over one sample period of $\\Delta t$.\n",
    "\n",
    "The integration can be done in many different ways; CasADi includes an interface to common integrators from *SUNDIALS*, but it is also easy (and sometimes very beneficial) to built e.g. a RK4 integrator, which minimizes additional overhead."
   ]
  },
  {
   "cell_type": "code",
   "execution_count": null,
   "metadata": {},
   "outputs": [],
   "source": [
    "dt = 0.02 # [s], 100 Hz sampling\n",
    "\n",
    "# Reference Runge-Kutta implementation simulating exactly one sample\n",
    "RK4 = ca.integrator('RK4', 'rk', {'x': x, 'p': u, 'ode': f(x,u)}, {'number_of_finite_elements': 1, 'tf': dt})\n",
    "\n",
    "# Discretized (sampling time dt) system dynamics as a CasADi Function\n",
    "F_RK4 = ca.Function('F_RK4', [x, u], [RK4(x0=x, p=u)[\"xf\"]], ['x[k]', 'u[k]'], ['x[k+1]'])\n",
    "\n",
    "# RK4\n",
    "k1 = f(x, u)\n",
    "k2 = f(x + dt / 2.0 * k1, u)\n",
    "k3 = f(x + dt / 2.0 * k2, u)\n",
    "k4 = f(x + dt * k3, u)\n",
    "xf = x + dt / 6.0 * (k1 + 2 * k2 + 2 * k3 + k4)\n",
    "\n",
    "# Single step time propagation\n",
    "F_RK4 = ca.Function(\"F_RK4\", [x, u], [xf], ['x[k]', 'u[k]'], ['x[k+1]'])"
   ]
  },
  {
   "cell_type": "markdown",
   "metadata": {},
   "source": [
    "# Optimal control formulations\n",
    "\n",
    "There are two ways of posing optimization problems in CasADi; either 'bare-metal' using pure CasADi symbolics or with a higher-level interface which significantly eases problem formulation + adds helpful debugging features."
   ]
  },
  {
   "cell_type": "code",
   "execution_count": null,
   "metadata": {},
   "outputs": [],
   "source": [
    "opti = ca.Opti()\n",
    "\n",
    "# Optimization horizon\n",
    "N = 200 # 1 [s]\n",
    "\n",
    "# Decision variables for states and inputs\n",
    "X = opti.variable(x.size, N+1)\n",
    "\n",
    "p = X[0,:]\n",
    "dp = X[2,:]\n",
    "theta = X[1,:]\n",
    "dtheta = X[3,:]\n",
    "\n",
    "U = opti.variable(N, u.size)\n",
    "\n",
    "# Initial state is a parameter\n",
    "x0 = opti.parameter(x.size)"
   ]
  },
  {
   "cell_type": "markdown",
   "metadata": {},
   "source": [
    "Now we have some decision variables; we then set up constraints.\n",
    "Formulating a multiple-shooting problem we pose some gap-closing constraints using our discrete dynamics."
   ]
  },
  {
   "cell_type": "code",
   "execution_count": null,
   "metadata": {},
   "outputs": [],
   "source": [
    "# Gap-closing shooting constraints\n",
    "for k in range(N):\n",
    "   opti.subject_to(X[:,k+1] == F_RK4(X[:,k], U[k]))"
   ]
  },
  {
   "cell_type": "code",
   "execution_count": null,
   "metadata": {},
   "outputs": [],
   "source": [
    "# Path constraints\n",
    "opti.subject_to(opti.bounded(-3,  p, 3)) # Limits on how far out the cart can move to either side, +- 3 m\n",
    "opti.subject_to(opti.bounded(-1.2, U, 1.2)) # Limits force input on cart, +- 1.2 N"
   ]
  },
  {
   "cell_type": "code",
   "execution_count": null,
   "metadata": {},
   "outputs": [],
   "source": [
    "# Initial and terminal constraints\n",
    "opti.subject_to(X[:,0] == x0)\n",
    "opti.subject_to(X[:,-1] == ca.vertcat(0,0,0,0)) # End at (0,0,0,0)"
   ]
  },
  {
   "cell_type": "markdown",
   "metadata": {},
   "source": [
    "Formulate objective, here we minimize sum of squares of our input"
   ]
  },
  {
   "cell_type": "code",
   "execution_count": null,
   "metadata": {},
   "outputs": [],
   "source": [
    "opti.minimize(ca.sumsqr(U))"
   ]
  },
  {
   "cell_type": "markdown",
   "metadata": {},
   "source": [
    "Then, we setup solver specifics -- here we use *IPOPT*."
   ]
  },
  {
   "cell_type": "code",
   "execution_count": null,
   "metadata": {},
   "outputs": [],
   "source": [
    "#opti.solver('ipopt', {'ipopt': {'print_level': 0}})\n",
    "\n",
    "options = {'qpsol': 'qrqp', 'expand': True}\n",
    "options['qpsol_options'] = {'print_iter': False, \"print_header\": False}\n",
    "options['print_iteration'] = False\n",
    "options['print_status'] = False\n",
    "opti.solver('sqpmethod', options)"
   ]
  },
  {
   "cell_type": "markdown",
   "metadata": {},
   "source": [
    "And we can now set up initial conditions and solve our problem:"
   ]
  },
  {
   "cell_type": "code",
   "execution_count": null,
   "metadata": {},
   "outputs": [],
   "source": [
    "opti.set_value(x0, [0.5, 0, 0, 0])\n",
    "sol = opti.solve()\n",
    "\n",
    "x_traj = sol.value(X).T[:-1]\n",
    "u_traj = sol.value(U).reshape(1,-1).T\n",
    "\n",
    "sol_traj = pd.DataFrame(np.hstack((x_traj, u_traj)), columns=['pos', 'theta', 'dpos', 'dtheta', 'F'])"
   ]
  },
  {
   "cell_type": "code",
   "execution_count": null,
   "metadata": {},
   "outputs": [],
   "source": [
    "sol_traj[['F', 'pos']].plot()"
   ]
  },
  {
   "cell_type": "markdown",
   "metadata": {},
   "source": [
    "# MPC"
   ]
  },
  {
   "cell_type": "code",
   "execution_count": null,
   "metadata": {},
   "outputs": [],
   "source": [
    "OCP = opti.to_function(\"OCP\", [x0], [U[0]], [\"x0\"], [\"u\"])"
   ]
  },
  {
   "cell_type": "code",
   "execution_count": null,
   "metadata": {},
   "outputs": [],
   "source": [
    "OCP([0.5, 0, 0, 0])"
   ]
  },
  {
   "cell_type": "code",
   "execution_count": null,
   "metadata": {},
   "outputs": [],
   "source": [
    "sol_traj[\"F\"][0]"
   ]
  },
  {
   "cell_type": "code",
   "execution_count": null,
   "metadata": {},
   "outputs": [],
   "source": [
    "N_sim = 400\n",
    "x_traj = np.zeros((N_sim, x.size))\n",
    "u_traj = np.zeros((N_sim, u.size))\n",
    "\n",
    "x_traj[0,:] = [0.5, 0, 0, 0]\n",
    "for i in range(1, N_sim):\n",
    "    u_traj[i, :] = OCP(x_traj[i-1, :])\n",
    "    \n",
    "    # Simulate one sample\n",
    "    x_traj[i, :] = F_RK4(x_traj[i-1,:], u_traj[i]).toarray().flatten()"
   ]
  },
  {
   "cell_type": "code",
   "execution_count": null,
   "metadata": {},
   "outputs": [],
   "source": [
    "plt.spy(sol.value(ca.hessian(opti.f,opti.x)[0]))"
   ]
  },
  {
   "cell_type": "code",
   "execution_count": null,
   "metadata": {},
   "outputs": [],
   "source": [
    "sim_res = pd.DataFrame(np.hstack((x_traj, u_traj)), columns=['pos', 'theta', 'dpos', 'dtheta', 'F'])"
   ]
  },
  {
   "cell_type": "code",
   "execution_count": null,
   "metadata": {},
   "outputs": [],
   "source": [
    "sim_res[['pos']].plot()"
   ]
  },
  {
   "cell_type": "markdown",
   "metadata": {},
   "source": [
    "# Extras"
   ]
  },
  {
   "cell_type": "code",
   "execution_count": null,
   "metadata": {},
   "outputs": [],
   "source": [
    "OCP.save(\"ocp.casadi\")"
   ]
  },
  {
   "cell_type": "code",
   "execution_count": null,
   "metadata": {},
   "outputs": [],
   "source": [
    "OCP_loaded = ca.Function.load(\"ocp.casadi\")"
   ]
  },
  {
   "cell_type": "code",
   "execution_count": null,
   "metadata": {},
   "outputs": [],
   "source": [
    "OCP_loaded"
   ]
  },
  {
   "cell_type": "code",
   "execution_count": null,
   "metadata": {},
   "outputs": [],
   "source": [
    "OCP.generate(\"ocp_codegen\", {\"main\": True})"
   ]
  }
 ],
 "metadata": {
  "kernelspec": {
   "display_name": "Python 3",
   "language": "python",
   "name": "python3"
  },
  "language_info": {
   "codemirror_mode": {
    "name": "ipython",
    "version": 3
   },
   "file_extension": ".py",
   "mimetype": "text/x-python",
   "name": "python",
   "nbconvert_exporter": "python",
   "pygments_lexer": "ipython3",
   "version": "3.7.5"
  }
 },
 "nbformat": 4,
 "nbformat_minor": 2
}
